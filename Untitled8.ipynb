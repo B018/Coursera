{
 "cells": [
  {
   "cell_type": "code",
   "execution_count": 2,
   "metadata": {},
   "outputs": [],
   "source": [
    "#Business Problem:\n",
    "\n",
    "#In my project I will be looking at a new potential location for a restaurant in Toronto. I will be analysing the area to identify the most popular restaurants and identify a gap in the market. If the area is saturated with too much of a cuisine then it will be tough for a new restaurant to survive, therefore we will be deciding what cuisine after analysing the data.\n",
    "\n",
    "#This would be helpful to anyone who wants to open a restaurants in future as this document will analyse the area and the restaurant market providing information on competitions."
   ]
  },
  {
   "cell_type": "code",
   "execution_count": 3,
   "metadata": {},
   "outputs": [],
   "source": [
    "#Data:\n",
    "\n",
    "#The information for Toronto was obtained through the Wikipedia, which we scraped through and built a data frame. I will clean it and use Foursquare location data to obtain the latitude and longitude for each point."
   ]
  },
  {
   "cell_type": "code",
   "execution_count": null,
   "metadata": {},
   "outputs": [],
   "source": []
  }
 ],
 "metadata": {
  "kernelspec": {
   "display_name": "Python",
   "language": "python",
   "name": "conda-env-python-py"
  },
  "language_info": {
   "codemirror_mode": {
    "name": "ipython",
    "version": 3
   },
   "file_extension": ".py",
   "mimetype": "text/x-python",
   "name": "python",
   "nbconvert_exporter": "python",
   "pygments_lexer": "ipython3",
   "version": "3.6.12"
  }
 },
 "nbformat": 4,
 "nbformat_minor": 4
}
